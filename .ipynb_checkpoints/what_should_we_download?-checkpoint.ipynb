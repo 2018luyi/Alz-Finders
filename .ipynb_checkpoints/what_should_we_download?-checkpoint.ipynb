{
 "cells": [
  {
   "cell_type": "code",
   "execution_count": 1,
   "metadata": {
    "collapsed": true
   },
   "outputs": [],
   "source": [
    "import pandas as pd\n",
    "import numpy as np\n",
    "import matplotlib.pyplot as plt\n",
    "%matplotlib inline"
   ]
  },
  {
   "cell_type": "code",
   "execution_count": 5,
   "metadata": {
    "collapsed": true
   },
   "outputs": [],
   "source": [
    "adni = pd.read_csv(\"idaSearch_AD_CN_MRI_PET.csv\")"
   ]
  },
  {
   "cell_type": "code",
   "execution_count": 6,
   "metadata": {},
   "outputs": [
    {
     "data": {
      "text/html": [
       "<div>\n",
       "<style>\n",
       "    .dataframe thead tr:only-child th {\n",
       "        text-align: right;\n",
       "    }\n",
       "\n",
       "    .dataframe thead th {\n",
       "        text-align: left;\n",
       "    }\n",
       "\n",
       "    .dataframe tbody tr th {\n",
       "        vertical-align: top;\n",
       "    }\n",
       "</style>\n",
       "<table border=\"1\" class=\"dataframe\">\n",
       "  <thead>\n",
       "    <tr style=\"text-align: right;\">\n",
       "      <th></th>\n",
       "      <th>Subject ID</th>\n",
       "      <th>Sex</th>\n",
       "      <th>Research Group</th>\n",
       "      <th>Age</th>\n",
       "      <th>Description</th>\n",
       "    </tr>\n",
       "  </thead>\n",
       "  <tbody>\n",
       "    <tr>\n",
       "      <th>0</th>\n",
       "      <td>002_S_0295</td>\n",
       "      <td>M</td>\n",
       "      <td>CN</td>\n",
       "      <td>84.9</td>\n",
       "      <td>B1-Calibration Body</td>\n",
       "    </tr>\n",
       "    <tr>\n",
       "      <th>1</th>\n",
       "      <td>002_S_0295</td>\n",
       "      <td>M</td>\n",
       "      <td>CN</td>\n",
       "      <td>84.9</td>\n",
       "      <td>B1-Calibration PA</td>\n",
       "    </tr>\n",
       "    <tr>\n",
       "      <th>2</th>\n",
       "      <td>002_S_0295</td>\n",
       "      <td>M</td>\n",
       "      <td>CN</td>\n",
       "      <td>84.9</td>\n",
       "      <td>3-plane localizer</td>\n",
       "    </tr>\n",
       "    <tr>\n",
       "      <th>3</th>\n",
       "      <td>002_S_0295</td>\n",
       "      <td>M</td>\n",
       "      <td>CN</td>\n",
       "      <td>84.9</td>\n",
       "      <td>3-plane localizer</td>\n",
       "    </tr>\n",
       "    <tr>\n",
       "      <th>4</th>\n",
       "      <td>002_S_0295</td>\n",
       "      <td>M</td>\n",
       "      <td>CN</td>\n",
       "      <td>84.9</td>\n",
       "      <td>3-plane localizer</td>\n",
       "    </tr>\n",
       "  </tbody>\n",
       "</table>\n",
       "</div>"
      ],
      "text/plain": [
       "   Subject ID Sex Research Group   Age          Description\n",
       "0  002_S_0295   M             CN  84.9  B1-Calibration Body\n",
       "1  002_S_0295   M             CN  84.9    B1-Calibration PA\n",
       "2  002_S_0295   M             CN  84.9    3-plane localizer\n",
       "3  002_S_0295   M             CN  84.9    3-plane localizer\n",
       "4  002_S_0295   M             CN  84.9    3-plane localizer"
      ]
     },
     "execution_count": 6,
     "metadata": {},
     "output_type": "execute_result"
    }
   ],
   "source": [
    "adni.head()"
   ]
  },
  {
   "cell_type": "markdown",
   "metadata": {},
   "source": [
    "This csv file was taken from ADNI's search interface.\n",
    "From the ADNI login go to **_Download$\\rightarrow$Image Collections$\\rightarrow$Advanced Search_**.\n",
    "\n",
    "The \"idaSearch_AD_CN_MRI_PET.csv\" was found using the following parameters:\n",
    "\n",
    "**Projects:** ADNI\n",
    "\n",
    "**Research Group:** AD, CN (check the box to the far right under \"Display in result\" otherwise the csv won't have labels.) \n",
    "\n",
    "**Modality:** MRI, PET, (AND)\n"
   ]
  },
  {
   "cell_type": "markdown",
   "metadata": {},
   "source": [
    "# <span style=\"color:red\">PROBLEM:</span>\n",
    "\n",
    "We need to figure out which of these ~30k samples we want to use. Description refers to the type of MRI or PET scan they did. Some of them are local to one particular region, some are higher res, etc. Not all of the User ID's have the same test subset of Desicriptions. \n",
    "\n",
    "This means that we probably need to find a group of a few hundred subject ID's which all have the same two Descriptions, one being an MRI and one a PET scan.\n",
    "\n",
    "### Ways to help: \n",
    "Let's dig through this dataframe and get some stats on the most common Descriptions.\n",
    "\n",
    "Get on the ADNI website and figure out which Descriptions correspond to MRI's and PET scans, (The PET ones seem to often be labeled.\n",
    "\n",
    "Determine if there are a few descriptions which we may consider equivalent. Do they correspond to the same test but at different machines or testing locations? etc.\n",
    "\n",
    "### Goal:\n",
    "\n",
    "Ideally, we want a list of subject ID's and the two descriptions for the data we want. With this it should be straightforward to enter the info into ADNI and get our data. "
   ]
  },
  {
   "cell_type": "markdown",
   "metadata": {},
   "source": [
    "## GET DESCRIPTION COUNTS:"
   ]
  },
  {
   "cell_type": "code",
   "execution_count": 95,
   "metadata": {},
   "outputs": [],
   "source": [
    "D = {}\n",
    "for i in range(0,adni.shape[0]):\n",
    "\n",
    "    d = adni.iloc[i]['Description']\n",
    "    if d not in D.keys():\n",
    "        D[d] = 1\n",
    "    else:\n",
    "        D[d] = D[d] + 1\n",
    "\n",
    "counts = pd.DataFrame({\"Description\":D.keys(), \"Counts\": D.values()})\n",
    "counts = counts.sort_values(\"Counts\",ascending=False)\n",
    "counts = counts.reset_index(drop=True)"
   ]
  },
  {
   "cell_type": "code",
   "execution_count": 89,
   "metadata": {},
   "outputs": [
    {
     "data": {
      "text/html": [
       "<div>\n",
       "<style>\n",
       "    .dataframe thead tr:only-child th {\n",
       "        text-align: right;\n",
       "    }\n",
       "\n",
       "    .dataframe thead th {\n",
       "        text-align: left;\n",
       "    }\n",
       "\n",
       "    .dataframe tbody tr th {\n",
       "        vertical-align: top;\n",
       "    }\n",
       "</style>\n",
       "<table border=\"1\" class=\"dataframe\">\n",
       "  <thead>\n",
       "    <tr style=\"text-align: right;\">\n",
       "      <th></th>\n",
       "      <th>Counts</th>\n",
       "      <th>Description</th>\n",
       "    </tr>\n",
       "  </thead>\n",
       "  <tbody>\n",
       "    <tr>\n",
       "      <th>0</th>\n",
       "      <td>3046</td>\n",
       "      <td>3 Plane Localizer</td>\n",
       "    </tr>\n",
       "    <tr>\n",
       "      <th>1</th>\n",
       "      <td>2560</td>\n",
       "      <td>localizer</td>\n",
       "    </tr>\n",
       "    <tr>\n",
       "      <th>2</th>\n",
       "      <td>1790</td>\n",
       "      <td>MPRAGE</td>\n",
       "    </tr>\n",
       "    <tr>\n",
       "      <th>3</th>\n",
       "      <td>1787</td>\n",
       "      <td>3-plane localizer</td>\n",
       "    </tr>\n",
       "    <tr>\n",
       "      <th>4</th>\n",
       "      <td>1335</td>\n",
       "      <td>Field Mapping</td>\n",
       "    </tr>\n",
       "  </tbody>\n",
       "</table>\n",
       "</div>"
      ],
      "text/plain": [
       "   Counts        Description\n",
       "0    3046  3 Plane Localizer\n",
       "1    2560          localizer\n",
       "2    1790             MPRAGE\n",
       "3    1787  3-plane localizer\n",
       "4    1335      Field Mapping"
      ]
     },
     "execution_count": 89,
     "metadata": {},
     "output_type": "execute_result"
    }
   ],
   "source": [
    "counts.head()"
   ]
  },
  {
   "cell_type": "markdown",
   "metadata": {},
   "source": [
    "After looking at the descriptions, I found that:\n",
    "\n",
    "**3 Plane Localizer** seems to be a triplet of MRI images, mixed between 1.5 and 3 T\n",
    "\n",
    "\n",
    "**Localizer** Triplet of MRI images, mixed between 1.5 and 3 T\n",
    "\n",
    "Both of the above come up when I search Localizer, so jointly there are 155 from ADNI1, 4000 from ADNI2, 1000 from ADNi3, \n",
    "\n",
    "**MPRAGE** Single MRI Image, mixed between 1.5 and 3 T. 1429 from ADNI1, 2000 from ADNI2, 400 of ADNI3\n",
    "\n",
    "**3-plane localizer** Triplet of MRI's. 1286 of them just from ADNI1. ~1700 otherwise. Mixed between 1.5 and 3 T\n",
    "\n",
    "**Field Mapping** Two MRI's. 1400 of them, all are 3T and are all from ADNI2 or ADNI3\n",
    "\n",
    "\n",
    " #### NO PET SCANS YET...\n",
    " \n",
    " When I search with the same parameters but only select PET scans, I see 3165 results. "
   ]
  },
  {
   "cell_type": "code",
   "execution_count": 98,
   "metadata": {},
   "outputs": [
    {
     "data": {
      "text/html": [
       "<div>\n",
       "<style>\n",
       "    .dataframe thead tr:only-child th {\n",
       "        text-align: right;\n",
       "    }\n",
       "\n",
       "    .dataframe thead th {\n",
       "        text-align: left;\n",
       "    }\n",
       "\n",
       "    .dataframe tbody tr th {\n",
       "        vertical-align: top;\n",
       "    }\n",
       "</style>\n",
       "<table border=\"1\" class=\"dataframe\">\n",
       "  <thead>\n",
       "    <tr style=\"text-align: right;\">\n",
       "      <th></th>\n",
       "      <th>Counts</th>\n",
       "      <th>Description</th>\n",
       "    </tr>\n",
       "  </thead>\n",
       "  <tbody>\n",
       "    <tr>\n",
       "      <th>0</th>\n",
       "      <td>201</td>\n",
       "      <td>ADNI Brain PET: Raw AV45</td>\n",
       "    </tr>\n",
       "    <tr>\n",
       "      <th>1</th>\n",
       "      <td>151</td>\n",
       "      <td>ADNI Brain PET: Raw</td>\n",
       "    </tr>\n",
       "    <tr>\n",
       "      <th>2</th>\n",
       "      <td>134</td>\n",
       "      <td>ADNI Brain PET: Raw FDG</td>\n",
       "    </tr>\n",
       "    <tr>\n",
       "      <th>3</th>\n",
       "      <td>76</td>\n",
       "      <td>ADNI Static Brain (6x5)</td>\n",
       "    </tr>\n",
       "    <tr>\n",
       "      <th>4</th>\n",
       "      <td>65</td>\n",
       "      <td>ADNI Brain PET: Raw Tau</td>\n",
       "    </tr>\n",
       "  </tbody>\n",
       "</table>\n",
       "</div>"
      ],
      "text/plain": [
       "   Counts               Description\n",
       "0     201  ADNI Brain PET: Raw AV45\n",
       "1     151       ADNI Brain PET: Raw\n",
       "2     134   ADNI Brain PET: Raw FDG\n",
       "3      76   ADNI Static Brain (6x5)\n",
       "4      65   ADNI Brain PET: Raw Tau"
      ]
     },
     "execution_count": 98,
     "metadata": {},
     "output_type": "execute_result"
    }
   ],
   "source": [
    "pet = pd.read_csv(\"idaSearch_AD_CN_PET.csv\")\n",
    "\n",
    "pD = {}\n",
    "for i in range(0,pet.shape[0]):\n",
    "\n",
    "    d = pet.iloc[i]['Description']\n",
    "    if d not in pD.keys():\n",
    "        pD[d] = 1\n",
    "    else:\n",
    "        pD[d] = pD[d] + 1\n",
    "\n",
    "pet_counts = pd.DataFrame({\"Description\":pD.keys(), \"Counts\": pD.values()})\n",
    "pet_counts = pet_counts.sort_values(\"Counts\",ascending=False)\n",
    "pet_counts = pet_counts.reset_index(drop=True)\n",
    "pet_counts.head()"
   ]
  },
  {
   "cell_type": "markdown",
   "metadata": {},
   "source": [
    "This above dataframe is of all PET scans in ADNI. So the conclusion to draw from this, is that if we want to insist that all of our dataset has the exact same description, our total sample size is bounded at 201. \n",
    "\n",
    "I suggest we try to find some MRI's for those 201 Subject_ID's and move forward. "
   ]
  },
  {
   "cell_type": "code",
   "execution_count": 107,
   "metadata": {},
   "outputs": [
    {
     "name": "stdout",
     "output_type": "stream",
     "text": [
      "(201, 7)\n"
     ]
    }
   ],
   "source": [
    "av45 = pet[pet['Description'] == 'ADNI Brain PET: Raw AV45']\n",
    "print(av45.shape)"
   ]
  },
  {
   "cell_type": "code",
   "execution_count": 106,
   "metadata": {},
   "outputs": [
    {
     "data": {
      "text/plain": [
       "(107, 7)"
      ]
     },
     "execution_count": 106,
     "metadata": {},
     "output_type": "execute_result"
    }
   ],
   "source": [
    "av45.drop_duplicates(subset='Subject ID').shape"
   ]
  },
  {
   "cell_type": "markdown",
   "metadata": {},
   "source": [
    "Okay, so there are only 100 distinct subject ID's out of those 200 datapoints. Do duplicates hurt us? **This could be a research question we investigate**"
   ]
  },
  {
   "cell_type": "code",
   "execution_count": null,
   "metadata": {
    "collapsed": true
   },
   "outputs": [],
   "source": []
  }
 ],
 "metadata": {
  "kernelspec": {
   "display_name": "Python 2",
   "language": "python",
   "name": "python2"
  },
  "language_info": {
   "codemirror_mode": {
    "name": "ipython",
    "version": 2
   },
   "file_extension": ".py",
   "mimetype": "text/x-python",
   "name": "python",
   "nbconvert_exporter": "python",
   "pygments_lexer": "ipython2",
   "version": "2.7.13"
  }
 },
 "nbformat": 4,
 "nbformat_minor": 2
}
