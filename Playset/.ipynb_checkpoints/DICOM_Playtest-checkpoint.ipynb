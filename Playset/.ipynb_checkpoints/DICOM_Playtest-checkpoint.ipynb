{
 "cells": [
  {
   "cell_type": "markdown",
   "metadata": {},
   "source": [
    "https://dicom-numpy.readthedocs.io/en/latest/\n",
    "\n",
    "#### This command will unblock all files in a directory\n",
    "get-childitem \"C:\\Users\\caleb\\Desktop\\461P\\FinalProj\\Alz-Finders\\preproc\\002_S_0295\\MP-RAGE\\2006-04-1\n",
    "8_08_20_30.0\\S13408\" | unblock-file"
   ]
  },
  {
   "cell_type": "code",
   "execution_count": 1,
   "metadata": {
    "collapsed": true
   },
   "outputs": [],
   "source": [
    "import pydicom\n",
    "import dicom_numpy\n",
    "\n"
   ]
  },
  {
   "cell_type": "code",
   "execution_count": 2,
   "metadata": {
    "collapsed": true
   },
   "outputs": [],
   "source": [
    "import os\n",
    "\n",
    "#print(os.getcwd())\n",
    "#dataPath = os.getcwd() + \"\\..\\\\ADNI_Playset\\\\ADNIPlaySet\\\\ADNI\"\n",
    "dataPath = os.getcwd()\n",
    "#print(dataPath)\n",
    "#for file in os.listdir(dataPath ):\n",
    "#    print(file)"
   ]
  },
  {
   "cell_type": "code",
   "execution_count": 19,
   "metadata": {},
   "outputs": [
    {
     "name": "stderr",
     "output_type": "stream",
     "text": [
      "The slice spacing is non-uniform. Slice spacings:\n",
      "[1.2       1.2       1.2       1.2       1.2       1.2       1.2\n",
      " 1.2       1.2       1.2       1.2       1.2       1.2       1.2\n",
      " 1.2       1.2       1.2       1.2       1.2       1.2       1.2\n",
      " 1.2       1.2       1.2       1.2       1.1999    1.2       1.2\n",
      " 1.2       1.2       1.2       1.2       1.2       1.2       1.2\n",
      " 1.2       1.2       1.2       1.2       1.2       1.2       1.2001\n",
      " 1.2       1.2       1.2       1.2       1.2       1.2       1.2\n",
      " 1.2       1.2       1.2       1.2       1.2       1.2       1.2\n",
      " 1.2       1.2       1.2       1.2       1.2       1.2       1.2\n",
      " 1.2       1.2       1.2       1.2       1.2       1.2       1.2\n",
      " 1.2       1.2       1.2       1.2       1.19997   1.2       1.2\n",
      " 1.2       1.2       1.2       1.2       1.2       1.1999989 1.2000011\n",
      " 1.2       1.2       1.2       1.2       1.2       1.2       1.2\n",
      " 1.20003   1.2       1.2       1.2       1.2       1.2       1.2\n",
      " 1.2       1.2       1.2       1.2       1.2       1.2       1.2\n",
      " 1.2       1.2       1.2       1.2       1.2       1.2       1.2\n",
      " 1.2       1.2       1.2       1.2       1.2       1.2       1.2\n",
      " 1.2       1.2       1.2       1.2       1.2       1.2       1.2\n",
      " 1.2       1.2       1.2       1.2       1.2       1.2       1.2\n",
      " 1.2       1.2       1.2       1.2       1.2       1.2       1.2\n",
      " 1.2       1.2       1.2       1.2       1.2       1.2       1.2\n",
      " 1.2       1.2       1.2       1.1999    1.2       1.2       1.2\n",
      " 1.2       1.2       1.2       1.2       1.2       1.2       1.2\n",
      " 1.2       1.2       1.2       1.2      ]\n"
     ]
    },
    {
     "name": "stdout",
     "output_type": "stream",
     "text": [
      "[[[  0   0   0 ...   0   0   0]\n",
      "  [  0   0   0 ...   0   0   0]\n",
      "  [ 73  74  71 ...  96  56  74]\n",
      "  ...\n",
      "  [144 131 115 ... 102 104 111]\n",
      "  [ 81  65  60 ...  67  70  73]\n",
      "  [ 74  61  55 ...  59  62  65]]\n",
      "\n",
      " [[  0   0   0 ...   0   0   0]\n",
      "  [  0   0   0 ...   0   0   0]\n",
      "  [ 46  59  75 ...  94  47  34]\n",
      "  ...\n",
      "  [100 140 122 ... 131 133 119]\n",
      "  [ 95  67  60 ...  70  57  84]\n",
      "  [ 81  63  56 ...  64  54  74]]\n",
      "\n",
      " [[  0   0   0 ...   0   0   0]\n",
      "  [  0   0   0 ...   0   0   0]\n",
      "  [ 88  75  89 ...  54  65  52]\n",
      "  ...\n",
      "  [126 167 122 ... 121 125 141]\n",
      "  [115 100  71 ...  51  52 102]\n",
      "  [ 98  90  64 ...  49  50  89]]\n",
      "\n",
      " ...\n",
      "\n",
      " [[  8  10   9 ...  11  13   7]\n",
      "  [ 10  10  10 ...  11  15   9]\n",
      "  [ 79  84  72 ... 103 125  92]\n",
      "  ...\n",
      "  [104 155 112 ... 174 167 119]\n",
      "  [ 81  69  39 ...  96  99  71]\n",
      "  [ 82  54  30 ...  76  91  62]]\n",
      "\n",
      " [[  8   9   9 ...   9   8   9]\n",
      "  [  9  10  10 ...   8   9  11]\n",
      "  [ 85  84  89 ...  62 105 130]\n",
      "  ...\n",
      "  [ 90 116 111 ... 235 158 109]\n",
      "  [ 80  64  49 ... 120 104  76]\n",
      "  [ 81  58  44 ...  99  88  69]]\n",
      "\n",
      " [[  9   7  10 ...  10   9   7]\n",
      "  [  9   8  11 ...  10  11   8]\n",
      "  [ 66  86  88 ...  68 122 100]\n",
      "  ...\n",
      "  [116 132 143 ... 183 104 115]\n",
      "  [ 66  68  82 ...  89  76  72]\n",
      "  [ 60  61  74 ...  72  73  64]]]\n"
     ]
    }
   ],
   "source": [
    "def extract_voxel_data(list_of_dicom_files, dirname):\n",
    "    #datasets = [pydicom.read_file(f) for f in list_of_dicom_files]\n",
    "    datasets = [pydicom.read_file(os.path.join(dirname, filename)) for filename in list_of_dicom_files]\n",
    "    try:\n",
    "        voxel_ndarray, ijk_to_xyz = dicom_numpy.combine_slices(datasets)\n",
    "    except dicom_numpy.DicomImportException as e:\n",
    "        # invalid DICOM data\n",
    "        raise\n",
    "    return voxel_ndarray\n",
    "\n",
    "\n",
    "\n",
    "dirname = '002_S_0295/MP-RAGE/2006-04-18_08_20_30.0/S13408'\n",
    "files = os.listdir(dirname)\n",
    "#ds_list = [pydicom.read_file(os.path.join(dirname, filename)) for filename in files]\n",
    "#print(files)\n",
    "voxData = extract_voxel_data(files, dirname)\n",
    "print(voxData)"
   ]
  },
  {
   "cell_type": "code",
   "execution_count": null,
   "metadata": {
    "collapsed": true
   },
   "outputs": [],
   "source": []
  }
 ],
 "metadata": {
  "kernelspec": {
   "display_name": "Python 3",
   "language": "python",
   "name": "python3"
  },
  "language_info": {
   "codemirror_mode": {
    "name": "ipython",
    "version": 3
   },
   "file_extension": ".py",
   "mimetype": "text/x-python",
   "name": "python",
   "nbconvert_exporter": "python",
   "pygments_lexer": "ipython3",
   "version": "3.5.2"
  }
 },
 "nbformat": 4,
 "nbformat_minor": 2
}
