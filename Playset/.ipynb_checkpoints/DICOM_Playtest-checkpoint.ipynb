{
 "cells": [
  {
   "cell_type": "markdown",
   "metadata": {},
   "source": [
    "https://dicom-numpy.readthedocs.io/en/latest/\n",
    "\n",
    "#### This command will unblock all files in a directory\n",
    "get-childitem \"C:\\Users\\caleb\\Desktop\\461P\\FinalProj\\Alz-Finders\\preproc\\002_S_0295\\MP-RAGE\\2006-04-1\n",
    "8_08_20_30.0\\S13408\" | unblock-file"
   ]
  },
  {
   "cell_type": "code",
   "execution_count": 7,
   "metadata": {
    "collapsed": true
   },
   "outputs": [],
   "source": [
    "import pydicom\n",
    "import dicom_numpy\n",
    "import numpy as np\n"
   ]
  },
  {
   "cell_type": "code",
   "execution_count": 3,
   "metadata": {
    "collapsed": true
   },
   "outputs": [],
   "source": [
    "import os\n",
    "\n",
    "#print(os.getcwd())\n",
    "#dataPath = os.getcwd() + \"\\..\\\\ADNI_Playset\\\\ADNIPlaySet\\\\ADNI\"\n",
    "dataPath = os.getcwd()\n",
    "#print(dataPath)\n",
    "#for file in os.listdir(dataPath ):\n",
    "#    print(file)"
   ]
  },
  {
   "cell_type": "code",
   "execution_count": 5,
   "metadata": {},
   "outputs": [
    {
     "name": "stdout",
     "output_type": "stream",
     "text": [
      "(256, 256, 166)\n"
     ]
    }
   ],
   "source": [
    "def extract_voxel_data(list_of_dicom_files, dirname):\n",
    "    #datasets = [pydicom.read_file(f) for f in list_of_dicom_files]\n",
    "    datasets = [pydicom.read_file(os.path.join(dirname, filename)) for filename in list_of_dicom_files]\n",
    "    try:\n",
    "        voxel_ndarray, ijk_to_xyz = dicom_numpy.combine_slices(datasets)\n",
    "    except dicom_numpy.DicomImportException as e:\n",
    "        # invalid DICOM data\n",
    "        raise\n",
    "    return voxel_ndarray\n",
    "\n",
    "\n",
    "\n",
    "dirname = '002_S_0295/MP-RAGE/2006-04-18_08_20_30.0/S13408'\n",
    "files = os.listdir(dirname)\n",
    "#ds_list = [pydicom.read_file(os.path.join(dirname, filename)) for filename in files]\n",
    "#print(files)\n",
    "voxData = extract_voxel_data(files, dirname)\n",
    "print((voxData.shape))"
   ]
  },
  {
   "cell_type": "markdown",
   "metadata": {
    "collapsed": true
   },
   "source": [
    "# FSL Tool\n",
    "\n",
    "I am going to try and use the FSL tool - https://fsl.fmrib.ox.ac.uk/fsl/fslwiki/\n",
    "\n",
    "It will ask you to register, and install a tool called XQuartz (link provided on download page)\n",
    "\n",
    "\n",
    "FSL contains many tools, but the ones which look relevant to us are:\n",
    "\n",
    "(BET) Brain Elimination Tool. - removes non-brain tissue\n",
    "(FLIRT)\n",
    "\n"
   ]
  },
  {
   "cell_type": "code",
   "execution_count": 8,
   "metadata": {
    "collapsed": true
   },
   "outputs": [],
   "source": [
    "ar = np.array([[(1,1),(1,2),(1,3),(1,4)],[(2,1),(2,2),(2,3),(2,4)],[(3,1),(3,2),(3,3),(3,4)],[(4,1),(4,2),(4,3),(4,4)]])"
   ]
  },
  {
   "cell_type": "code",
   "execution_count": 11,
   "metadata": {},
   "outputs": [
    {
     "data": {
      "text/plain": [
       "array([[[1, 1],\n",
       "        [1, 2],\n",
       "        [1, 3],\n",
       "        [1, 4]],\n",
       "\n",
       "       [[2, 1],\n",
       "        [2, 2],\n",
       "        [2, 3],\n",
       "        [2, 4]],\n",
       "\n",
       "       [[3, 1],\n",
       "        [3, 2],\n",
       "        [3, 3],\n",
       "        [3, 4]],\n",
       "\n",
       "       [[4, 1],\n",
       "        [4, 2],\n",
       "        [4, 3],\n",
       "        [4, 4]]])"
      ]
     },
     "execution_count": 11,
     "metadata": {},
     "output_type": "execute_result"
    }
   ],
   "source": [
    "ar"
   ]
  },
  {
   "cell_type": "code",
   "execution_count": 10,
   "metadata": {},
   "outputs": [
    {
     "data": {
      "text/plain": [
       "array([[[1, 1],\n",
       "        [1, 3]],\n",
       "\n",
       "       [[3, 1],\n",
       "        [3, 3]]])"
      ]
     },
     "execution_count": 10,
     "metadata": {},
     "output_type": "execute_result"
    }
   ],
   "source": [
    "ar[::2,::2]"
   ]
  },
  {
   "cell_type": "code",
   "execution_count": null,
   "metadata": {
    "collapsed": true
   },
   "outputs": [],
   "source": []
  }
 ],
 "metadata": {
  "kernelspec": {
   "display_name": "Python 2",
   "language": "python",
   "name": "python2"
  },
  "language_info": {
   "codemirror_mode": {
    "name": "ipython",
    "version": 2
   },
   "file_extension": ".py",
   "mimetype": "text/x-python",
   "name": "python",
   "nbconvert_exporter": "python",
   "pygments_lexer": "ipython2",
   "version": "2.7.13"
  }
 },
 "nbformat": 4,
 "nbformat_minor": 2
}
