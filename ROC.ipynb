{
 "cells": [
  {
   "cell_type": "markdown",
   "metadata": {},
   "source": [
    "I pulled this from the notebook. Everything commented out was like that in the notebook, I pulled it as is but kept the extra stuff incase it was important for some reason."
   ]
  },
  {
   "cell_type": "code",
   "execution_count": null,
   "metadata": {
    "collapsed": true
   },
   "outputs": [],
   "source": [
    "xgb_model = xgb.XGBRegressor(objective=\"binary:logistic\", colsample_bytree=.8609771937961997, gamma=.46202087955371657, learning_rate=.10083495993522129, max_depth=5, n_estimators=2500, subsample=.611)\n",
    "xgb_model.fit(X_train,y_train)\n",
    "\n",
    "#all_test_IDs = test_IDs['AD'] + test_IDs['NC']\n",
    "from sklearn.metrics import roc_auc_score\n",
    "y_score = xgb_model.predict(X_test)\n",
    "#yguess = pd.DataFrame(yguess)\n",
    "\n",
    "score = roc_auc_score(y_test, yguess)\n",
    "\n",
    "from sklearn import metrics\n",
    "fpr, tpr, thresholds = metrics.roc_curve(y_test, y_score, pos_label=1)\n",
    "#metrics.roc_curve(y, scores, pos_label=2)\n",
    "\n",
    "len(fpr)\n",
    "\n",
    "plt.plot(fpr,tpr)\n",
    "plt.title(\"FPR vs TPR\\nAUC = 0.894009\")\n",
    "\n",
    "plt.show()"
   ]
  },
  {
   "cell_type": "code",
   "execution_count": null,
   "metadata": {
    "collapsed": true
   },
   "outputs": [],
   "source": []
  }
 ],
 "metadata": {
  "kernelspec": {
   "display_name": "Python 3",
   "language": "python",
   "name": "python3"
  },
  "language_info": {
   "codemirror_mode": {
    "name": "ipython",
    "version": 3
   },
   "file_extension": ".py",
   "mimetype": "text/x-python",
   "name": "python",
   "nbconvert_exporter": "python",
   "pygments_lexer": "ipython3",
   "version": "3.5.2"
  }
 },
 "nbformat": 4,
 "nbformat_minor": 2
}
