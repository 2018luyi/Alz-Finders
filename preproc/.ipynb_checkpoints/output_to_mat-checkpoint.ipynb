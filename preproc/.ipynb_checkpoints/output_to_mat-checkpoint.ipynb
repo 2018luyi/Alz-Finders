{
 "cells": [
  {
   "cell_type": "code",
   "execution_count": 108,
   "metadata": {
    "scrolled": true
   },
   "outputs": [
    {
     "name": "stdout",
     "output_type": "stream",
     "text": [
      "(128, 128, 128)\n",
      "<class 'numpy.ndarray'>\n"
     ]
    }
   ],
   "source": [
    "import numpy as np\n",
    "import scipy.io as sio\n",
    "\n",
    "\n",
    "input_3D = np.ones(shape=(128,128,128))\n",
    "\n",
    "print(input_3D.shape)\n",
    "print(type(input_3D))"
   ]
  },
  {
   "cell_type": "code",
   "execution_count": 109,
   "metadata": {
    "collapsed": true
   },
   "outputs": [],
   "source": [
    "#takes images sized (128, 128, 128)\n",
    "#outputs images sized (100, 81, 80)\n",
    "#outputs from the center of the image\n",
    "def roughChop(input_3D):\n",
    "    if (input_3D.shape != (128, 128, 128)):\n",
    "        print(\"You have passed an incorrectly sized array to roughChop. Required array size: (128, 128, 128).\")\n",
    "        print(\"You passed an array of size: \" + str(input_3D.shape))\n",
    "    else:\n",
    "        output_3D = np.copy(input_3D)\n",
    "        output_3D = output_3D[14:-14,24:-23,24:-24]\n",
    "        return output_3D"
   ]
  },
  {
   "cell_type": "code",
   "execution_count": 110,
   "metadata": {},
   "outputs": [
    {
     "name": "stdout",
     "output_type": "stream",
     "text": [
      "You have passed an incorrectly sized array to roughChop. Required array size: (128, 128, 128).\n",
      "You passed an array of size: (100, 100, 1)\n"
     ]
    }
   ],
   "source": [
    "input_3D_2 = np.zeros(shape=(100,100,1))\n",
    "roughChop(input_3D_2)"
   ]
  },
  {
   "cell_type": "code",
   "execution_count": 111,
   "metadata": {
    "collapsed": true
   },
   "outputs": [],
   "source": [
    "output_3D = roughChop(input_3D)"
   ]
  },
  {
   "cell_type": "code",
   "execution_count": 112,
   "metadata": {},
   "outputs": [
    {
     "name": "stdout",
     "output_type": "stream",
     "text": [
      "(100, 81, 80)\n"
     ]
    }
   ],
   "source": [
    "print(output_3D.shape)"
   ]
  },
  {
   "cell_type": "markdown",
   "metadata": {},
   "source": [
    "\n",
    "### The voxel intensities of each MRI and PET image are used for classification. The whole brain images are simply divided into 3 × 3 × 3 parts to extract 27 patches of size 50 × 41 × 40 voxels. Each patch has half overlaps with its neighbor in every direction."
   ]
  },
  {
   "cell_type": "code",
   "execution_count": 113,
   "metadata": {
    "collapsed": true
   },
   "outputs": [],
   "source": [
    "#object which will yield 27 patches \n",
    "\n",
    "class patch_iter:\n",
    "    #input requires a 3D image of size 100, 81, 80\n",
    "    def __init__(self, input_3D):\n",
    "        if (input_3D.shape != (100, 81, 80)):\n",
    "            print(\"You have passed an incorrectly sized array to patch_iter. Required array size: (100, 81, 80).\")\n",
    "            print(\"You passed an array of size: \" + str(input_3D.shape))\n",
    "            return \n",
    "        self.i = 0\n",
    "        self.n = 27\n",
    "        self.input_3D = input_3D\n",
    "    def __iter__(self):\n",
    "        # Iterators are iterables too.\n",
    "        # Adding this functions to make them so.\n",
    "        return self\n",
    "    def next(self):\n",
    "        if self.i < self.n:\n",
    "            i = self.i\n",
    "            self.i += 1\n",
    "            #print(i)\n",
    "            #return i\n",
    "            dim1_start_idxs = [0, 25, 50] #[0-49], [25-74], [50-99] inclusive\n",
    "            dim1_end_idxs =[50, 75, 100]\n",
    "            dim2_start_idxs = [0, 20, 40] #[0-39], [20-59], [41-80] inclusive, (slightly different overlap because 81 isn't even)\n",
    "            dim2_end_idxs =[41, 61, 81]\n",
    "            dim3_start_idxs = [0, 20, 40]\n",
    "            dim3_end_idxs = [40, 60, 80]\n",
    "            ii = int(i / 9)\n",
    "            jj = int( (i %9)  / 3)\n",
    "            kk = int(i % 3)\n",
    "            print(\"dim 1: \" + str(dim1_start_idxs[ii]) + \" \" + str(dim1_end_idxs[ii]), end =\"\\t\")\n",
    "            print(\"dim 2: \" + str(dim2_start_idxs[jj]) + \" \" + str(dim2_end_idxs[jj]), end =\"\\t\")\n",
    "            print(\"dim 3: \" + str(dim3_start_idxs[kk]) + \" \" + str(dim3_end_idxs[kk]), end =\"\\t\")\n",
    "            \n",
    "            return input_3D[dim1_start_idxs[ii]:dim1_end_idxs[ii],dim2_start_idxs[jj]:dim2_end_idxs[jj],dim3_start_idxs[kk]:dim3_end_idxs[kk]]\n",
    "        else:\n",
    "            raise StopIteration()\n"
   ]
  },
  {
   "cell_type": "code",
   "execution_count": 114,
   "metadata": {},
   "outputs": [
    {
     "name": "stdout",
     "output_type": "stream",
     "text": [
      "dim 1: 0 50\tdim 2: 0 41\tdim 3: 0 40\t(50, 41, 40)\n",
      "dim 1: 0 50\tdim 2: 0 41\tdim 3: 20 60\t(50, 41, 40)\n",
      "dim 1: 0 50\tdim 2: 0 41\tdim 3: 40 80\t(50, 41, 40)\n",
      "dim 1: 0 50\tdim 2: 20 61\tdim 3: 0 40\t(50, 41, 40)\n",
      "dim 1: 0 50\tdim 2: 20 61\tdim 3: 20 60\t(50, 41, 40)\n",
      "dim 1: 0 50\tdim 2: 20 61\tdim 3: 40 80\t(50, 41, 40)\n",
      "dim 1: 0 50\tdim 2: 40 81\tdim 3: 0 40\t(50, 41, 40)\n",
      "dim 1: 0 50\tdim 2: 40 81\tdim 3: 20 60\t(50, 41, 40)\n",
      "dim 1: 0 50\tdim 2: 40 81\tdim 3: 40 80\t(50, 41, 40)\n",
      "dim 1: 25 75\tdim 2: 0 41\tdim 3: 0 40\t(50, 41, 40)\n",
      "dim 1: 25 75\tdim 2: 0 41\tdim 3: 20 60\t(50, 41, 40)\n",
      "dim 1: 25 75\tdim 2: 0 41\tdim 3: 40 80\t(50, 41, 40)\n",
      "dim 1: 25 75\tdim 2: 20 61\tdim 3: 0 40\t(50, 41, 40)\n",
      "dim 1: 25 75\tdim 2: 20 61\tdim 3: 20 60\t(50, 41, 40)\n",
      "dim 1: 25 75\tdim 2: 20 61\tdim 3: 40 80\t(50, 41, 40)\n",
      "dim 1: 25 75\tdim 2: 40 81\tdim 3: 0 40\t(50, 41, 40)\n",
      "dim 1: 25 75\tdim 2: 40 81\tdim 3: 20 60\t(50, 41, 40)\n",
      "dim 1: 25 75\tdim 2: 40 81\tdim 3: 40 80\t(50, 41, 40)\n",
      "dim 1: 50 100\tdim 2: 0 41\tdim 3: 0 40\t(50, 41, 40)\n",
      "dim 1: 50 100\tdim 2: 0 41\tdim 3: 20 60\t(50, 41, 40)\n",
      "dim 1: 50 100\tdim 2: 0 41\tdim 3: 40 80\t(50, 41, 40)\n",
      "dim 1: 50 100\tdim 2: 20 61\tdim 3: 0 40\t(50, 41, 40)\n",
      "dim 1: 50 100\tdim 2: 20 61\tdim 3: 20 60\t(50, 41, 40)\n",
      "dim 1: 50 100\tdim 2: 20 61\tdim 3: 40 80\t(50, 41, 40)\n",
      "dim 1: 50 100\tdim 2: 40 81\tdim 3: 0 40\t(50, 41, 40)\n",
      "dim 1: 50 100\tdim 2: 40 81\tdim 3: 20 60\t(50, 41, 40)\n",
      "dim 1: 50 100\tdim 2: 40 81\tdim 3: 40 80\t(50, 41, 40)\n"
     ]
    }
   ],
   "source": [
    "y = patch_iter(output_3D)\n",
    "\n",
    "for ii in range(27):\n",
    "    thisPatch = y.next()\n",
    "    print(thisPatch.shape)"
   ]
  },
  {
   "cell_type": "code",
   "execution_count": 115,
   "metadata": {
    "collapsed": true
   },
   "outputs": [],
   "source": [
    "import numpy as np\n",
    "\n",
    "import scipy.io as sio"
   ]
  },
  {
   "cell_type": "code",
   "execution_count": 118,
   "metadata": {},
   "outputs": [],
   "source": [
    "#def load_data(patch_i,data_i):\n",
    "def load_data():\n",
    "    #patch_i is an index for which patch in the current brain sample, so it's 0 to 26\n",
    "    #data_i is an index for which brain sample, so it's 0 to num_brains, in the for loop, it is passed in as the index of the current iteration of the loop\n",
    "    #data_i = data_i+1 #incrementing data_i by 1 each time, so i think that it goes from 1 to num_brains+1 entries when pulling patch data\n",
    "    #dataSetpath = '/media/disk_e/PET_PatchDATA' #specified path to the location of the PET scan patch data, WE WILL NEED TO CHANGE THIS!\n",
    "    #filename = 'AffineADNC64_Patch'+str(patch_i)+'_PET_'+str(data_i)+'.mat' #file has to be a .mat file, and, for them\n",
    "                                                                            #it's in the format AffineADNC64_Patch(patch id)_PET_(data id).mat\n",
    "    #full_filename= os.path.join(dataSetpath,filename) #creates the full conjoined path of the dataSet's path and the file's name\n",
    "    full_filename = \"matlab_output.mat\"\n",
    "    dataMat = sio.loadmat(full_filename) #loading the data(.mat) file\n",
    "    AD_name = 'PatchAD' #column name for the alzheimer's detection data\n",
    "    AD_data = dataMat[AD_name] #getting the alzheimer's detection patch from the data file\n",
    "    num_AD =  AD_data.shape[0]\n",
    "    NC_name = 'PatchNC' #column name for the normal control data\n",
    "    NC_data = dataMat[NC_name]\n",
    "    num_NC =  NC_data.shape[0]\n",
    "    X_size,Y_size,Z_size = NC_data.shape[1:]\n",
    "    del dataMat\n",
    "    numAllSample = num_AD+num_NC\n",
    "    adLabel =  np.ones((num_AD,))\n",
    "    normalLabel =  np.zeros((num_NC,))\n",
    "    imgADNC_3D = np.zeros((numAllSample,50,41,40))\n",
    "    imgADNC_3D[:num_AD,:X_size,:Y_size,:Z_size] = AD_data[:,:50,:41,:40]\n",
    "    imgADNC_3D[num_AD:,:X_size,:Y_size,:Z_size] = NC_data[:,:50,:41,:40]\n",
    "    imgVector = imgADNC_3D.reshape(numAllSample,-1)\n",
    "    imgVector = imgVector.astype('float16')\n",
    "    imgVector = (imgVector-np.min(imgVector))*2.0/(float(np.max(imgVector)-np.min(imgVector)))-1\n",
    "    data3dvt = imgVector\n",
    "    imgLabel = np.hstack((adLabel,normalLabel))\n",
    "    return data3dvt,imgLabel "
   ]
  },
  {
   "cell_type": "code",
   "execution_count": 119,
   "metadata": {
    "collapsed": true
   },
   "outputs": [],
   "source": [
    "def save_data(array_of_3D_AD_patches, array_of_3D_NC_patches):\n",
    "    file_name = \"matlab_output\"\n",
    "    mdict = {'PatchAD': array_of_3D_AD_patches, 'PatchNC': array_of_3D_NC_patches}\n",
    "    sio.savemat(file_name, mdict)"
   ]
  },
  {
   "cell_type": "code",
   "execution_count": 120,
   "metadata": {},
   "outputs": [
    {
     "name": "stdout",
     "output_type": "stream",
     "text": [
      "dim 1: 0 50\tdim 2: 0 41\tdim 3: 0 40\tdim 1: 0 50\tdim 2: 0 41\tdim 3: 20 60\tdim 1: 0 50\tdim 2: 0 41\tdim 3: 40 80\tdim 1: 0 50\tdim 2: 20 61\tdim 3: 0 40\tdim 1: 0 50\tdim 2: 20 61\tdim 3: 20 60\tdim 1: 0 50\tdim 2: 20 61\tdim 3: 40 80\tdim 1: 0 50\tdim 2: 40 81\tdim 3: 0 40\tdim 1: 0 50\tdim 2: 40 81\tdim 3: 20 60\tdim 1: 0 50\tdim 2: 40 81\tdim 3: 40 80\tdim 1: 25 75\tdim 2: 0 41\tdim 3: 0 40\tdim 1: 25 75\tdim 2: 0 41\tdim 3: 20 60\tdim 1: 25 75\tdim 2: 0 41\tdim 3: 40 80\tdim 1: 25 75\tdim 2: 20 61\tdim 3: 0 40\tdim 1: 25 75\tdim 2: 20 61\tdim 3: 20 60\tdim 1: 25 75\tdim 2: 20 61\tdim 3: 40 80\tdim 1: 25 75\tdim 2: 40 81\tdim 3: 0 40\tdim 1: 25 75\tdim 2: 40 81\tdim 3: 20 60\tdim 1: 25 75\tdim 2: 40 81\tdim 3: 40 80\tdim 1: 50 100\tdim 2: 0 41\tdim 3: 0 40\tdim 1: 50 100\tdim 2: 0 41\tdim 3: 20 60\tdim 1: 50 100\tdim 2: 0 41\tdim 3: 40 80\tdim 1: 50 100\tdim 2: 20 61\tdim 3: 0 40\tdim 1: 50 100\tdim 2: 20 61\tdim 3: 20 60\tdim 1: 50 100\tdim 2: 20 61\tdim 3: 40 80\tdim 1: 50 100\tdim 2: 40 81\tdim 3: 0 40\tdim 1: 50 100\tdim 2: 40 81\tdim 3: 20 60\tdim 1: 50 100\tdim 2: 40 81\tdim 3: 40 80\t(27, 50, 41, 40)\n",
      "[[[1. 1. 1. ... 1. 1. 1.]\n",
      "  [1. 1. 1. ... 1. 1. 1.]\n",
      "  [1. 1. 1. ... 1. 1. 1.]\n",
      "  ...\n",
      "  [1. 1. 1. ... 1. 1. 1.]\n",
      "  [1. 1. 1. ... 1. 1. 1.]\n",
      "  [1. 1. 1. ... 1. 1. 1.]]\n",
      "\n",
      " [[1. 1. 1. ... 1. 1. 1.]\n",
      "  [1. 1. 1. ... 1. 1. 1.]\n",
      "  [1. 1. 1. ... 1. 1. 1.]\n",
      "  ...\n",
      "  [1. 1. 1. ... 1. 1. 1.]\n",
      "  [1. 1. 1. ... 1. 1. 1.]\n",
      "  [1. 1. 1. ... 1. 1. 1.]]\n",
      "\n",
      " [[1. 1. 1. ... 1. 1. 1.]\n",
      "  [1. 1. 1. ... 1. 1. 1.]\n",
      "  [1. 1. 1. ... 1. 1. 1.]\n",
      "  ...\n",
      "  [1. 1. 1. ... 1. 1. 1.]\n",
      "  [1. 1. 1. ... 1. 1. 1.]\n",
      "  [1. 1. 1. ... 1. 1. 1.]]\n",
      "\n",
      " ...\n",
      "\n",
      " [[1. 1. 1. ... 1. 1. 1.]\n",
      "  [1. 1. 1. ... 1. 1. 1.]\n",
      "  [1. 1. 1. ... 1. 1. 1.]\n",
      "  ...\n",
      "  [1. 1. 1. ... 1. 1. 1.]\n",
      "  [1. 1. 1. ... 1. 1. 1.]\n",
      "  [1. 1. 1. ... 1. 1. 1.]]\n",
      "\n",
      " [[1. 1. 1. ... 1. 1. 1.]\n",
      "  [1. 1. 1. ... 1. 1. 1.]\n",
      "  [1. 1. 1. ... 1. 1. 1.]\n",
      "  ...\n",
      "  [1. 1. 1. ... 1. 1. 1.]\n",
      "  [1. 1. 1. ... 1. 1. 1.]\n",
      "  [1. 1. 1. ... 1. 1. 1.]]\n",
      "\n",
      " [[1. 1. 1. ... 1. 1. 1.]\n",
      "  [1. 1. 1. ... 1. 1. 1.]\n",
      "  [1. 1. 1. ... 1. 1. 1.]\n",
      "  ...\n",
      "  [1. 1. 1. ... 1. 1. 1.]\n",
      "  [1. 1. 1. ... 1. 1. 1.]\n",
      "  [1. 1. 1. ... 1. 1. 1.]]]\n"
     ]
    }
   ],
   "source": [
    "y = patch_iter(output_3D)\n",
    "\n",
    "arrayOfPatches = np.zeros(shape=(27,50,41,40))\n",
    "\n",
    "for ii in range(27):\n",
    "    thisPatch = y.next()\n",
    "    arrayOfPatches[ii] = thisPatch\n",
    "    #print(thisPatch.shape)\n",
    "    \n",
    "print(arrayOfPatches.shape)\n",
    "print(arrayOfPatches[1])\n",
    "\n",
    "\n"
   ]
  },
  {
   "cell_type": "code",
   "execution_count": 121,
   "metadata": {},
   "outputs": [],
   "source": [
    "input_3D_AD = arrayOfPatches\n",
    "input_3D_NC = arrayOfPatches[:5] + 1\n",
    "\n",
    "save_data(input_3D_AD, input_3D_NC)"
   ]
  },
  {
   "cell_type": "code",
   "execution_count": 103,
   "metadata": {},
   "outputs": [],
   "source": [
    "data3dvt,imgLabel = load_data()"
   ]
  },
  {
   "cell_type": "code",
   "execution_count": 122,
   "metadata": {},
   "outputs": [
    {
     "name": "stdout",
     "output_type": "stream",
     "text": [
      "(32, 82000)\n",
      "[1. 1. 1. 1. 1. 1. 1. 1. 1. 1. 1. 1. 1. 1. 1. 1. 1. 1. 1. 1. 1. 1. 1. 1.\n",
      " 1. 1. 1. 0. 0. 0. 0. 0.]\n",
      "(32, 50, 41, 40)\n"
     ]
    }
   ],
   "source": [
    "print(data3dvt.shape)\n",
    "print(imgLabel)\n",
    "\n",
    "length_v = imgLabel.shape[0]        \n",
    "data3dvt_reshaped = data3dvt.reshape(length_v, 50, 41, 40)\n",
    "print(data3dvt_reshaped.shape)"
   ]
  },
  {
   "cell_type": "code",
   "execution_count": 123,
   "metadata": {
    "collapsed": true
   },
   "outputs": [],
   "source": [
    "# take all dcm files in a folder and put them in 27 matlab files corresponding to the patch index"
   ]
  },
  {
   "cell_type": "code",
   "execution_count": null,
   "metadata": {
    "collapsed": true
   },
   "outputs": [],
   "source": []
  }
 ],
 "metadata": {
  "kernelspec": {
   "display_name": "Python 3",
   "language": "python",
   "name": "python3"
  },
  "language_info": {
   "codemirror_mode": {
    "name": "ipython",
    "version": 3
   },
   "file_extension": ".py",
   "mimetype": "text/x-python",
   "name": "python",
   "nbconvert_exporter": "python",
   "pygments_lexer": "ipython3",
   "version": "3.6.1"
  }
 },
 "nbformat": 4,
 "nbformat_minor": 2
}
