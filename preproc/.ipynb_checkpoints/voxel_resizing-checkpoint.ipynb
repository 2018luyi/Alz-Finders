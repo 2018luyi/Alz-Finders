{
 "cells": [
  {
   "cell_type": "markdown",
   "metadata": {},
   "source": [
    "### 128 × 128 × 128 voxels. The voxels outside the brain are removed from the image analysis and the MRI and PET images finally used are of size 100 × 81 × 80 voxels. \n"
   ]
  },
  {
   "cell_type": "code",
   "execution_count": 28,
   "metadata": {},
   "outputs": [
    {
     "name": "stdout",
     "output_type": "stream",
     "text": [
      "(128, 128, 128)\n",
      "<class 'numpy.ndarray'>\n"
     ]
    }
   ],
   "source": [
    "import numpy as np\n",
    "\n",
    "input_3D = np.zeros(shape=(128,128,128))\n",
    "\n",
    "print(input_3D.shape)\n",
    "print(type(input_3D))"
   ]
  },
  {
   "cell_type": "code",
   "execution_count": 29,
   "metadata": {
    "collapsed": true
   },
   "outputs": [],
   "source": [
    "#takes images sized (128, 128, 128)\n",
    "#outputs images sized (100, 81, 80)\n",
    "#outputs from the center of the image\n",
    "def roughChop(input_3D):\n",
    "    if (input_3D.shape != (128, 128, 128)):\n",
    "        print(\"You have passed an incorrectly sized array to roughChop. Required array size: (128, 128, 128).\")\n",
    "        print(\"You passed an array of size: \" + str(input_3D.shape))\n",
    "    else:\n",
    "        output_3D = np.copy(input_3D)\n",
    "        output_3D = output_3D[14:-14,24:-23,24:-24]\n",
    "        return output_3D"
   ]
  },
  {
   "cell_type": "code",
   "execution_count": 30,
   "metadata": {},
   "outputs": [
    {
     "name": "stdout",
     "output_type": "stream",
     "text": [
      "You have passed an incorrectly sized array to roughChop. Required array size: (128, 128, 128).\n",
      "You passed an array of size: (100, 100, 1)\n"
     ]
    }
   ],
   "source": [
    "input_3D_2 = np.zeros(shape=(100,100,1))\n",
    "roughChop(input_3D_2)"
   ]
  },
  {
   "cell_type": "code",
   "execution_count": 31,
   "metadata": {},
   "outputs": [],
   "source": [
    "output_3D = roughChop(input_3D)"
   ]
  },
  {
   "cell_type": "code",
   "execution_count": 32,
   "metadata": {},
   "outputs": [
    {
     "name": "stdout",
     "output_type": "stream",
     "text": [
      "(100, 81, 80)\n"
     ]
    }
   ],
   "source": [
    "print(output_3D.shape)"
   ]
  },
  {
   "cell_type": "markdown",
   "metadata": {},
   "source": [
    "\n",
    "### The voxel intensities of each MRI and PET image are used for classification. The whole brain images are simply divided into 3 × 3 × 3 parts to extract 27 patches of size 50 × 41 × 40 voxels. Each patch has half overlaps with its neighbor in every direction."
   ]
  },
  {
   "cell_type": "code",
   "execution_count": 74,
   "metadata": {},
   "outputs": [],
   "source": [
    "#object which will yield 27 patches \n",
    "\n",
    "class patch_iter:\n",
    "    #input requires a 3D image of size 100, 81, 80\n",
    "    def __init__(self, input_3D):\n",
    "        if (input_3D.shape != (100, 81, 80)):\n",
    "            print(\"You have passed an incorrectly sized array to patch_iter. Required array size: (100, 81, 80).\")\n",
    "            print(\"You passed an array of size: \" + str(input_3D.shape))\n",
    "            return \n",
    "        self.i = 0\n",
    "        self.n = 27\n",
    "        self.input_3D = input_3D\n",
    "    def __iter__(self):\n",
    "        # Iterators are iterables too.\n",
    "        # Adding this functions to make them so.\n",
    "        return self\n",
    "    def next(self):\n",
    "        if self.i < self.n:\n",
    "            i = self.i\n",
    "            self.i += 1\n",
    "            #print(i)\n",
    "            #return i\n",
    "            dim1_start_idxs = [0, 25, 50] #[0-49], [25-74], [50-99] inclusive\n",
    "            dim1_end_idxs =[50, 75, 100]\n",
    "            dim2_start_idxs = [0, 20, 40] #[0-39], [20-59], [41-80] inclusive, (slightly different overlap because 81 isn't even)\n",
    "            dim2_end_idxs =[41, 61, 81]\n",
    "            dim3_start_idxs = [0, 20, 40]\n",
    "            dim3_end_idxs = [40, 60, 80]\n",
    "            ii = int(i / 9)\n",
    "            jj = int( (i %9)  / 3)\n",
    "            kk = int(i % 3)\n",
    "            print(\"dim 1: \" + str(dim1_start_idxs[ii]) + \" \" + str(dim1_end_idxs[ii]), end =\"\\t\")\n",
    "            print(\"dim 2: \" + str(dim2_start_idxs[jj]) + \" \" + str(dim2_end_idxs[jj]), end =\"\\t\")\n",
    "            print(\"dim 3: \" + str(dim3_start_idxs[kk]) + \" \" + str(dim3_end_idxs[kk]), end =\"\\t\")\n",
    "            \n",
    "            return input_3D[dim1_start_idxs[ii]:dim1_end_idxs[ii],dim2_start_idxs[jj]:dim2_end_idxs[jj],dim3_start_idxs[kk]:dim3_end_idxs[kk]]\n",
    "        else:\n",
    "            raise StopIteration()\n"
   ]
  },
  {
   "cell_type": "code",
   "execution_count": 75,
   "metadata": {},
   "outputs": [
    {
     "name": "stdout",
     "output_type": "stream",
     "text": [
      "dim 1: 0 50\tdim 2: 0 41\tdim 3: 0 40\t(50, 41, 40)\n",
      "dim 1: 0 50\tdim 2: 0 41\tdim 3: 20 60\t(50, 41, 40)\n",
      "dim 1: 0 50\tdim 2: 0 41\tdim 3: 40 80\t(50, 41, 40)\n",
      "dim 1: 0 50\tdim 2: 20 61\tdim 3: 0 40\t(50, 41, 40)\n",
      "dim 1: 0 50\tdim 2: 20 61\tdim 3: 20 60\t(50, 41, 40)\n",
      "dim 1: 0 50\tdim 2: 20 61\tdim 3: 40 80\t(50, 41, 40)\n",
      "dim 1: 0 50\tdim 2: 40 81\tdim 3: 0 40\t(50, 41, 40)\n",
      "dim 1: 0 50\tdim 2: 40 81\tdim 3: 20 60\t(50, 41, 40)\n",
      "dim 1: 0 50\tdim 2: 40 81\tdim 3: 40 80\t(50, 41, 40)\n",
      "dim 1: 25 75\tdim 2: 0 41\tdim 3: 0 40\t(50, 41, 40)\n",
      "dim 1: 25 75\tdim 2: 0 41\tdim 3: 20 60\t(50, 41, 40)\n",
      "dim 1: 25 75\tdim 2: 0 41\tdim 3: 40 80\t(50, 41, 40)\n",
      "dim 1: 25 75\tdim 2: 20 61\tdim 3: 0 40\t(50, 41, 40)\n",
      "dim 1: 25 75\tdim 2: 20 61\tdim 3: 20 60\t(50, 41, 40)\n",
      "dim 1: 25 75\tdim 2: 20 61\tdim 3: 40 80\t(50, 41, 40)\n",
      "dim 1: 25 75\tdim 2: 40 81\tdim 3: 0 40\t(50, 41, 40)\n",
      "dim 1: 25 75\tdim 2: 40 81\tdim 3: 20 60\t(50, 41, 40)\n",
      "dim 1: 25 75\tdim 2: 40 81\tdim 3: 40 80\t(50, 41, 40)\n",
      "dim 1: 50 100\tdim 2: 0 41\tdim 3: 0 40\t(50, 41, 40)\n",
      "dim 1: 50 100\tdim 2: 0 41\tdim 3: 20 60\t(50, 41, 40)\n",
      "dim 1: 50 100\tdim 2: 0 41\tdim 3: 40 80\t(50, 41, 40)\n",
      "dim 1: 50 100\tdim 2: 20 61\tdim 3: 0 40\t(50, 41, 40)\n",
      "dim 1: 50 100\tdim 2: 20 61\tdim 3: 20 60\t(50, 41, 40)\n",
      "dim 1: 50 100\tdim 2: 20 61\tdim 3: 40 80\t(50, 41, 40)\n",
      "dim 1: 50 100\tdim 2: 40 81\tdim 3: 0 40\t(50, 41, 40)\n",
      "dim 1: 50 100\tdim 2: 40 81\tdim 3: 20 60\t(50, 41, 40)\n",
      "dim 1: 50 100\tdim 2: 40 81\tdim 3: 40 80\t(50, 41, 40)\n"
     ]
    }
   ],
   "source": [
    "y = patch_iter(output_3D)\n",
    "\n",
    "for ii in range(27):\n",
    "    thisPatch = y.next()\n",
    "    print(thisPatch.shape)"
   ]
  },
  {
   "cell_type": "code",
   "execution_count": null,
   "metadata": {
    "collapsed": true
   },
   "outputs": [],
   "source": []
  }
 ],
 "metadata": {
  "kernelspec": {
   "display_name": "Python 3",
   "language": "python",
   "name": "python3"
  },
  "language_info": {
   "codemirror_mode": {
    "name": "ipython",
    "version": 3
   },
   "file_extension": ".py",
   "mimetype": "text/x-python",
   "name": "python",
   "nbconvert_exporter": "python",
   "pygments_lexer": "ipython3",
   "version": "3.6.1"
  }
 },
 "nbformat": 4,
 "nbformat_minor": 2
}
