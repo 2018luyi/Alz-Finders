{
 "cells": [
  {
   "cell_type": "code",
   "execution_count": 1,
   "metadata": {
    "collapsed": true
   },
   "outputs": [],
   "source": [
    "import pandas as pd\n",
    "import numpy as np\n",
    "import matplotlib.pyplot as plt\n",
    "%matplotlib inline"
   ]
  },
  {
   "cell_type": "code",
   "execution_count": 2,
   "metadata": {
    "collapsed": true
   },
   "outputs": [],
   "source": [
    "adni = pd.read_csv(\"idaSearch_AD_CN_MRI_PET.csv\")"
   ]
  },
  {
   "cell_type": "code",
   "execution_count": 3,
   "metadata": {},
   "outputs": [
    {
     "data": {
      "text/html": [
       "<div>\n",
       "<style>\n",
       "    .dataframe thead tr:only-child th {\n",
       "        text-align: right;\n",
       "    }\n",
       "\n",
       "    .dataframe thead th {\n",
       "        text-align: left;\n",
       "    }\n",
       "\n",
       "    .dataframe tbody tr th {\n",
       "        vertical-align: top;\n",
       "    }\n",
       "</style>\n",
       "<table border=\"1\" class=\"dataframe\">\n",
       "  <thead>\n",
       "    <tr style=\"text-align: right;\">\n",
       "      <th></th>\n",
       "      <th>Subject ID</th>\n",
       "      <th>Sex</th>\n",
       "      <th>Research Group</th>\n",
       "      <th>Age</th>\n",
       "      <th>Description</th>\n",
       "    </tr>\n",
       "  </thead>\n",
       "  <tbody>\n",
       "    <tr>\n",
       "      <th>0</th>\n",
       "      <td>002_S_0295</td>\n",
       "      <td>M</td>\n",
       "      <td>CN</td>\n",
       "      <td>84.9</td>\n",
       "      <td>B1-Calibration Body</td>\n",
       "    </tr>\n",
       "    <tr>\n",
       "      <th>1</th>\n",
       "      <td>002_S_0295</td>\n",
       "      <td>M</td>\n",
       "      <td>CN</td>\n",
       "      <td>84.9</td>\n",
       "      <td>B1-Calibration PA</td>\n",
       "    </tr>\n",
       "    <tr>\n",
       "      <th>2</th>\n",
       "      <td>002_S_0295</td>\n",
       "      <td>M</td>\n",
       "      <td>CN</td>\n",
       "      <td>84.9</td>\n",
       "      <td>3-plane localizer</td>\n",
       "    </tr>\n",
       "    <tr>\n",
       "      <th>3</th>\n",
       "      <td>002_S_0295</td>\n",
       "      <td>M</td>\n",
       "      <td>CN</td>\n",
       "      <td>84.9</td>\n",
       "      <td>3-plane localizer</td>\n",
       "    </tr>\n",
       "    <tr>\n",
       "      <th>4</th>\n",
       "      <td>002_S_0295</td>\n",
       "      <td>M</td>\n",
       "      <td>CN</td>\n",
       "      <td>84.9</td>\n",
       "      <td>3-plane localizer</td>\n",
       "    </tr>\n",
       "  </tbody>\n",
       "</table>\n",
       "</div>"
      ],
      "text/plain": [
       "   Subject ID Sex Research Group   Age          Description\n",
       "0  002_S_0295   M             CN  84.9  B1-Calibration Body\n",
       "1  002_S_0295   M             CN  84.9    B1-Calibration PA\n",
       "2  002_S_0295   M             CN  84.9    3-plane localizer\n",
       "3  002_S_0295   M             CN  84.9    3-plane localizer\n",
       "4  002_S_0295   M             CN  84.9    3-plane localizer"
      ]
     },
     "execution_count": 3,
     "metadata": {},
     "output_type": "execute_result"
    }
   ],
   "source": [
    "adni.head()"
   ]
  },
  {
   "cell_type": "markdown",
   "metadata": {},
   "source": [
    "This csv file was taken from ADNI's search interface.\n",
    "From the ADNI login go to **_Download$\\rightarrow$Image Collections$\\rightarrow$Advanced Search_**.\n",
    "\n",
    "The \"idaSearch_AD_CN_MRI_PET.csv\" was found using the following parameters:\n",
    "\n",
    "**Projects:** ADNI\n",
    "\n",
    "**Research Group:** AD, CN (check the box to the far right under \"Display in result\" otherwise the csv won't have labels.) \n",
    "\n",
    "**Modality:** MRI, PET, (AND)\n"
   ]
  },
  {
   "cell_type": "markdown",
   "metadata": {},
   "source": [
    "# <span style=\"color:red\">PROBLEM:</span>\n",
    "\n",
    "We need to figure out which of these ~30k samples we want to use. Description refers to the type of MRI or PET scan they did. Some of them are local to one particular region, some are higher res, etc. Not all of the User ID's have the same test subset of Desicriptions. \n",
    "\n",
    "This means that we probably need to find a group of a few hundred subject ID's which all have the same two Descriptions, one being an MRI and one a PET scan.\n",
    "\n",
    "### Ways to help: \n",
    "Let's dig through this dataframe and get some stats on the most common Descriptions.\n",
    "\n",
    "Get on the ADNI website and figure out which Descriptions correspond to MRI's and PET scans, (The PET ones seem to often be labeled.\n",
    "\n",
    "Determine if there are a few descriptions which we may consider equivalent. Do they correspond to the same test but at different machines or testing locations? etc.\n",
    "\n",
    "### Goal:\n",
    "\n",
    "Ideally, we want a list of subject ID's and the two descriptions for the data we want. With this it should be straightforward to enter the info into ADNI and get our data. "
   ]
  },
  {
   "cell_type": "markdown",
   "metadata": {},
   "source": [
    "## GET DESCRIPTION COUNTS:"
   ]
  },
  {
   "cell_type": "code",
   "execution_count": 4,
   "metadata": {
    "collapsed": true
   },
   "outputs": [],
   "source": [
    "D = {}\n",
    "for i in range(0,adni.shape[0]):\n",
    "\n",
    "    d = adni.iloc[i]['Description']\n",
    "    if d not in D.keys():\n",
    "        D[d] = 1\n",
    "    else:\n",
    "        D[d] = D[d] + 1\n",
    "\n",
    "counts = pd.DataFrame({\"Description\":D.keys(), \"Counts\": D.values()})\n",
    "counts = counts.sort_values(\"Counts\",ascending=False)\n",
    "counts = counts.reset_index(drop=True)"
   ]
  },
  {
   "cell_type": "code",
   "execution_count": 29,
   "metadata": {},
   "outputs": [
    {
     "data": {
      "text/html": [
       "<div>\n",
       "<style>\n",
       "    .dataframe thead tr:only-child th {\n",
       "        text-align: right;\n",
       "    }\n",
       "\n",
       "    .dataframe thead th {\n",
       "        text-align: left;\n",
       "    }\n",
       "\n",
       "    .dataframe tbody tr th {\n",
       "        vertical-align: top;\n",
       "    }\n",
       "</style>\n",
       "<table border=\"1\" class=\"dataframe\">\n",
       "  <thead>\n",
       "    <tr style=\"text-align: right;\">\n",
       "      <th></th>\n",
       "      <th>Counts</th>\n",
       "      <th>Description</th>\n",
       "    </tr>\n",
       "  </thead>\n",
       "  <tbody>\n",
       "    <tr>\n",
       "      <th>0</th>\n",
       "      <td>3046</td>\n",
       "      <td>3 Plane Localizer</td>\n",
       "    </tr>\n",
       "    <tr>\n",
       "      <th>1</th>\n",
       "      <td>2560</td>\n",
       "      <td>localizer</td>\n",
       "    </tr>\n",
       "    <tr>\n",
       "      <th>2</th>\n",
       "      <td>1790</td>\n",
       "      <td>MPRAGE</td>\n",
       "    </tr>\n",
       "    <tr>\n",
       "      <th>3</th>\n",
       "      <td>1787</td>\n",
       "      <td>3-plane localizer</td>\n",
       "    </tr>\n",
       "    <tr>\n",
       "      <th>4</th>\n",
       "      <td>1335</td>\n",
       "      <td>Field Mapping</td>\n",
       "    </tr>\n",
       "    <tr>\n",
       "      <th>5</th>\n",
       "      <td>1168</td>\n",
       "      <td>Axial PD/T2 FSE</td>\n",
       "    </tr>\n",
       "    <tr>\n",
       "      <th>6</th>\n",
       "      <td>1123</td>\n",
       "      <td>Axial PD-T2 TSE</td>\n",
       "    </tr>\n",
       "    <tr>\n",
       "      <th>7</th>\n",
       "      <td>1039</td>\n",
       "      <td>Localizer</td>\n",
       "    </tr>\n",
       "    <tr>\n",
       "      <th>8</th>\n",
       "      <td>1022</td>\n",
       "      <td>Axial T2-FLAIR</td>\n",
       "    </tr>\n",
       "    <tr>\n",
       "      <th>9</th>\n",
       "      <td>669</td>\n",
       "      <td>AXIAL_T2_STAR</td>\n",
       "    </tr>\n",
       "  </tbody>\n",
       "</table>\n",
       "</div>"
      ],
      "text/plain": [
       "   Counts        Description\n",
       "0    3046  3 Plane Localizer\n",
       "1    2560          localizer\n",
       "2    1790             MPRAGE\n",
       "3    1787  3-plane localizer\n",
       "4    1335      Field Mapping\n",
       "5    1168    Axial PD/T2 FSE\n",
       "6    1123    Axial PD-T2 TSE\n",
       "7    1039          Localizer\n",
       "8    1022     Axial T2-FLAIR\n",
       "9     669      AXIAL_T2_STAR"
      ]
     },
     "execution_count": 29,
     "metadata": {},
     "output_type": "execute_result"
    }
   ],
   "source": [
    "counts.iloc[0:10]"
   ]
  },
  {
   "cell_type": "markdown",
   "metadata": {},
   "source": [
    "After looking at the descriptions, I found that:\n",
    "\n",
    "**3 Plane Localizer** seems to be a triplet of MRI images, mixed between 1.5 and 3 T\n",
    "\n",
    "\n",
    "**Localizer** Triplet of MRI images, mixed between 1.5 and 3 T\n",
    "\n",
    "Both of the above come up when I search Localizer, so jointly there are 155 from ADNI1, 4000 from ADNI2, 1000 from ADNi3, \n",
    "\n",
    "**MPRAGE** Single MRI Image, mixed between 1.5 and 3 T. 1429 from ADNI1, 2000 from ADNI2, 400 of ADNI3\n",
    "\n",
    "**3-plane localizer** Triplet of MRI's. 1286 of them just from ADNI1. ~1700 otherwise. Mixed between 1.5 and 3 T\n",
    "\n",
    "**Field Mapping** Two MRI's. 1400 of them, all are 3T and are all from ADNI2 or ADNI3\n",
    "\n",
    "\n",
    " #### NO PET SCANS YET...\n",
    " \n",
    " When I search with the same parameters but only select PET scans, I see 3165 results. "
   ]
  },
  {
   "cell_type": "code",
   "execution_count": 6,
   "metadata": {},
   "outputs": [
    {
     "data": {
      "text/html": [
       "<div>\n",
       "<style>\n",
       "    .dataframe thead tr:only-child th {\n",
       "        text-align: right;\n",
       "    }\n",
       "\n",
       "    .dataframe thead th {\n",
       "        text-align: left;\n",
       "    }\n",
       "\n",
       "    .dataframe tbody tr th {\n",
       "        vertical-align: top;\n",
       "    }\n",
       "</style>\n",
       "<table border=\"1\" class=\"dataframe\">\n",
       "  <thead>\n",
       "    <tr style=\"text-align: right;\">\n",
       "      <th></th>\n",
       "      <th>Counts</th>\n",
       "      <th>Description</th>\n",
       "    </tr>\n",
       "  </thead>\n",
       "  <tbody>\n",
       "    <tr>\n",
       "      <th>0</th>\n",
       "      <td>201</td>\n",
       "      <td>ADNI Brain PET: Raw AV45</td>\n",
       "    </tr>\n",
       "    <tr>\n",
       "      <th>1</th>\n",
       "      <td>151</td>\n",
       "      <td>ADNI Brain PET: Raw</td>\n",
       "    </tr>\n",
       "    <tr>\n",
       "      <th>2</th>\n",
       "      <td>134</td>\n",
       "      <td>ADNI Brain PET: Raw FDG</td>\n",
       "    </tr>\n",
       "    <tr>\n",
       "      <th>3</th>\n",
       "      <td>76</td>\n",
       "      <td>ADNI Static Brain (6x5)</td>\n",
       "    </tr>\n",
       "    <tr>\n",
       "      <th>4</th>\n",
       "      <td>65</td>\n",
       "      <td>ADNI Brain PET: Raw Tau</td>\n",
       "    </tr>\n",
       "  </tbody>\n",
       "</table>\n",
       "</div>"
      ],
      "text/plain": [
       "   Counts               Description\n",
       "0     201  ADNI Brain PET: Raw AV45\n",
       "1     151       ADNI Brain PET: Raw\n",
       "2     134   ADNI Brain PET: Raw FDG\n",
       "3      76   ADNI Static Brain (6x5)\n",
       "4      65   ADNI Brain PET: Raw Tau"
      ]
     },
     "execution_count": 6,
     "metadata": {},
     "output_type": "execute_result"
    }
   ],
   "source": [
    "pet = pd.read_csv(\"idaSearch_AD_CN_PET.csv\")\n",
    "\n",
    "pD = {}\n",
    "for i in range(0,pet.shape[0]):\n",
    "\n",
    "    d = pet.iloc[i]['Description']\n",
    "    if d not in pD.keys():\n",
    "        pD[d] = 1\n",
    "    else:\n",
    "        pD[d] = pD[d] + 1\n",
    "\n",
    "pet_counts = pd.DataFrame({\"Description\":pD.keys(), \"Counts\": pD.values()})\n",
    "pet_counts = pet_counts.sort_values(\"Counts\",ascending=False)\n",
    "pet_counts = pet_counts.reset_index(drop=True)\n",
    "pet_counts.head()"
   ]
  },
  {
   "cell_type": "markdown",
   "metadata": {},
   "source": [
    "This above dataframe is of all PET scans in ADNI. So the conclusion to draw from this, is that if we want to insist that all of our dataset has the exact same description, our total sample size is bounded at 201. \n",
    "\n",
    "I suggest we try to find some MRI's for those 201 Subject_ID's and move forward. "
   ]
  },
  {
   "cell_type": "code",
   "execution_count": 7,
   "metadata": {},
   "outputs": [
    {
     "data": {
      "text/plain": [
       "(107, 7)"
      ]
     },
     "execution_count": 7,
     "metadata": {},
     "output_type": "execute_result"
    }
   ],
   "source": [
    "av45 = pet[pet['Description'] == 'ADNI Brain PET: Raw AV45']\n",
    "av45.drop_duplicates(subset='Subject ID').shape"
   ]
  },
  {
   "cell_type": "code",
   "execution_count": 9,
   "metadata": {},
   "outputs": [
    {
     "data": {
      "text/plain": [
       "(107, 7)"
      ]
     },
     "execution_count": 9,
     "metadata": {},
     "output_type": "execute_result"
    }
   ],
   "source": []
  },
  {
   "cell_type": "code",
   "execution_count": 29,
   "metadata": {},
   "outputs": [
    {
     "data": {
      "text/plain": [
       "True"
      ]
     },
     "execution_count": 29,
     "metadata": {},
     "output_type": "execute_result"
    }
   ],
   "source": []
  },
  {
   "cell_type": "code",
   "execution_count": 9,
   "metadata": {
    "scrolled": true
   },
   "outputs": [],
   "source": [
    "ID_100  = av45[\"Subject ID\"]\n",
    "s = set(ID_100)\n",
    "MRIs = [\"3 Plane Localizer\", \"3-plane localizer\", \"Localizer\", \"localizer\"]"
   ]
  },
  {
   "cell_type": "code",
   "execution_count": 11,
   "metadata": {},
   "outputs": [],
   "source": [
    "desc = adni[adni[\"Description\"].isin(MRIs)]\n",
    "sample = desc[desc[\"Subject ID\"].isin(s)]"
   ]
  },
  {
   "cell_type": "code",
   "execution_count": 12,
   "metadata": {},
   "outputs": [
    {
     "data": {
      "text/plain": [
       "(1206, 5)"
      ]
     },
     "execution_count": 12,
     "metadata": {},
     "output_type": "execute_result"
    }
   ],
   "source": [
    "sample.shape"
   ]
  },
  {
   "cell_type": "code",
   "execution_count": 44,
   "metadata": {
    "collapsed": true
   },
   "outputs": [],
   "source": [
    "sample = adni[adni['Subject ID'].isin(s) & adni[\"Description\"].isin(MRIs)]"
   ]
  },
  {
   "cell_type": "code",
   "execution_count": 48,
   "metadata": {
    "collapsed": true
   },
   "outputs": [],
   "source": [
    "s = sample.drop_duplicates(subset='Subject ID')"
   ]
  },
  {
   "cell_type": "code",
   "execution_count": 62,
   "metadata": {},
   "outputs": [
    {
     "data": {
      "text/html": [
       "<div>\n",
       "<style>\n",
       "    .dataframe thead tr:only-child th {\n",
       "        text-align: right;\n",
       "    }\n",
       "\n",
       "    .dataframe thead th {\n",
       "        text-align: left;\n",
       "    }\n",
       "\n",
       "    .dataframe tbody tr th {\n",
       "        vertical-align: top;\n",
       "    }\n",
       "</style>\n",
       "<table border=\"1\" class=\"dataframe\">\n",
       "  <thead>\n",
       "    <tr style=\"text-align: right;\">\n",
       "      <th></th>\n",
       "      <th>Subject ID</th>\n",
       "      <th>Sex</th>\n",
       "      <th>Research Group</th>\n",
       "      <th>Age</th>\n",
       "      <th>Description</th>\n",
       "    </tr>\n",
       "  </thead>\n",
       "  <tbody>\n",
       "  </tbody>\n",
       "</table>\n",
       "</div>"
      ],
      "text/plain": [
       "Empty DataFrame\n",
       "Columns: [Subject ID, Sex, Research Group, Age, Description]\n",
       "Index: []"
      ]
     },
     "execution_count": 62,
     "metadata": {},
     "output_type": "execute_result"
    }
   ],
   "source": [
    "#adni[adni[\"Description\"].isin([\"3 Plane Localizer, 3-plane localizer, Localizer, localizer\"])]\n",
    "a = sample[sample[\"Description\"]==\"Localizer\"]\n",
    "\n",
    "a.head()"
   ]
  },
  {
   "cell_type": "markdown",
   "metadata": {},
   "source": [
    "Okay, so there are only 100 distinct subject ID's out of those 200 datapoints. Do duplicates hurt us? **This could be a research question we investigate**"
   ]
  },
  {
   "cell_type": "markdown",
   "metadata": {
    "collapsed": true
   },
   "source": [
    "# Baseline MetaData\n"
   ]
  },
  {
   "cell_type": "code",
   "execution_count": 30,
   "metadata": {
    "collapsed": true
   },
   "outputs": [],
   "source": [
    "#bl = pd.read_csv(\"Baseline_Metadata.csv\")\n",
    "bl = pd.read_csv(\"idaSearch_PET.csv\")\n"
   ]
  },
  {
   "cell_type": "code",
   "execution_count": 31,
   "metadata": {},
   "outputs": [
    {
     "data": {
      "text/html": [
       "<div>\n",
       "<style>\n",
       "    .dataframe thead tr:only-child th {\n",
       "        text-align: right;\n",
       "    }\n",
       "\n",
       "    .dataframe thead th {\n",
       "        text-align: left;\n",
       "    }\n",
       "\n",
       "    .dataframe tbody tr th {\n",
       "        vertical-align: top;\n",
       "    }\n",
       "</style>\n",
       "<table border=\"1\" class=\"dataframe\">\n",
       "  <thead>\n",
       "    <tr style=\"text-align: right;\">\n",
       "      <th></th>\n",
       "      <th>Counts</th>\n",
       "      <th>Description</th>\n",
       "    </tr>\n",
       "  </thead>\n",
       "  <tbody>\n",
       "    <tr>\n",
       "      <th>0</th>\n",
       "      <td>374</td>\n",
       "      <td>ADNI Brain PET: Raw</td>\n",
       "    </tr>\n",
       "    <tr>\n",
       "      <th>1</th>\n",
       "      <td>199</td>\n",
       "      <td>ADNI Brain PET: Raw FDG</td>\n",
       "    </tr>\n",
       "    <tr>\n",
       "      <th>2</th>\n",
       "      <td>180</td>\n",
       "      <td>ADNI Static Brain (6x5)</td>\n",
       "    </tr>\n",
       "    <tr>\n",
       "      <th>3</th>\n",
       "      <td>105</td>\n",
       "      <td>30 min 3D FDG  4i/16s</td>\n",
       "    </tr>\n",
       "    <tr>\n",
       "      <th>4</th>\n",
       "      <td>98</td>\n",
       "      <td>30 min 3D FDG 4i/16s</td>\n",
       "    </tr>\n",
       "  </tbody>\n",
       "</table>\n",
       "</div>"
      ],
      "text/plain": [
       "   Counts              Description\n",
       "0     374      ADNI Brain PET: Raw\n",
       "1     199  ADNI Brain PET: Raw FDG\n",
       "2     180  ADNI Static Brain (6x5)\n",
       "3     105    30 min 3D FDG  4i/16s\n",
       "4      98     30 min 3D FDG 4i/16s"
      ]
     },
     "execution_count": 31,
     "metadata": {},
     "output_type": "execute_result"
    }
   ],
   "source": [
    "#pet = pd.read_csv(\"idaSearch_AD_CN_PET.csv\")\n",
    "\n",
    "blD = {}\n",
    "for i in range(0,bl.shape[0]):\n",
    "\n",
    "    d = bl.iloc[i]['Description']\n",
    "    if d not in blD.keys():\n",
    "        blD[d] = 1\n",
    "    else:\n",
    "        blD[d] = blD[d] + 1\n",
    "\n",
    "bl_counts = pd.DataFrame({\"Description\":blD.keys(), \"Counts\": blD.values()})\n",
    "bl_counts = bl_counts.sort_values(\"Counts\",ascending=False)\n",
    "bl_counts = bl_counts.reset_index(drop=True)\n",
    "bl_counts.head()"
   ]
  },
  {
   "cell_type": "markdown",
   "metadata": {
    "collapsed": true
   },
   "source": [
    "# My attempt at automating this dumpster fire"
   ]
  },
  {
   "cell_type": "code",
   "execution_count": 38,
   "metadata": {
    "collapsed": true
   },
   "outputs": [],
   "source": [
    "#Input the image descriptions you are willing to accept for each patient's MRI and PET scan data.\n",
    "MRI_desc = [\"3-plane localizer\", \"3 Plane Localizer\", \"localizer\", \"Localizer\", \"MPRAGE\", ]\n",
    "PET_desc = [\"ADNI Brain PET: Raw\",\"ADNI Brain PET: Raw FDG\"]"
   ]
  },
  {
   "cell_type": "code",
   "execution_count": 91,
   "metadata": {},
   "outputs": [],
   "source": [
    "mri = pd.read_csv(\"MRI_1.2mm.csv\") #\"idaSearch_MRI_PET.csv\")\n",
    "pet = pd.read_csv(\"PET_2mm.csv\")   #\"idaSearch_PET.csv\")\n",
    "unique_ids =  mri.drop_duplicates(subset='Subject ID')['Subject ID']\n",
    "\n",
    "filtered =pet[pet[\"Subject ID\"].isin(unique_ids)]"
   ]
  },
  {
   "cell_type": "code",
   "execution_count": 98,
   "metadata": {},
   "outputs": [],
   "source": [
    "filtered[\"Subject ID\"].to_csv(\"Prelim_Dataset.csv\")"
   ]
  },
  {
   "cell_type": "code",
   "execution_count": 97,
   "metadata": {},
   "outputs": [
    {
     "data": {
      "text/plain": [
       "(255, 7)"
      ]
     },
     "execution_count": 97,
     "metadata": {},
     "output_type": "execute_result"
    }
   ],
   "source": [
    "#filtered[filtered[\"Research Group\"] == \"MCI\"].shape"
   ]
  },
  {
   "cell_type": "code",
   "execution_count": 87,
   "metadata": {},
   "outputs": [],
   "source": [
    "#only_pet"
   ]
  },
  {
   "cell_type": "code",
   "execution_count": null,
   "metadata": {
    "collapsed": true
   },
   "outputs": [],
   "source": []
  },
  {
   "cell_type": "code",
   "execution_count": null,
   "metadata": {
    "collapsed": true
   },
   "outputs": [],
   "source": []
  }
 ],
 "metadata": {
  "kernelspec": {
   "display_name": "Python 2",
   "language": "python",
   "name": "python2"
  },
  "language_info": {
   "codemirror_mode": {
    "name": "ipython",
    "version": 2
   },
   "file_extension": ".py",
   "mimetype": "text/x-python",
   "name": "python",
   "nbconvert_exporter": "python",
   "pygments_lexer": "ipython2",
   "version": "2.7.13"
  }
 },
 "nbformat": 4,
 "nbformat_minor": 2
}
