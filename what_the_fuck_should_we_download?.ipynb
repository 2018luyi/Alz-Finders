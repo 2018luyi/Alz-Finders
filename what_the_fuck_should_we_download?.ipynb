{
 "cells": [
  {
   "cell_type": "code",
   "execution_count": 1,
   "metadata": {
    "collapsed": true
   },
   "outputs": [],
   "source": [
    "import pandas as pd\n",
    "import numpy as np\n",
    "import matplotlib.pyplot as plt\n",
    "%matplotlib inline"
   ]
  },
  {
   "cell_type": "code",
   "execution_count": 5,
   "metadata": {
    "collapsed": true
   },
   "outputs": [],
   "source": [
    "adni = pd.read_csv(\"idaSearch_AD_CN_MRI_PET.csv\")"
   ]
  },
  {
   "cell_type": "code",
   "execution_count": 6,
   "metadata": {},
   "outputs": [
    {
     "data": {
      "text/html": [
       "<div>\n",
       "<style>\n",
       "    .dataframe thead tr:only-child th {\n",
       "        text-align: right;\n",
       "    }\n",
       "\n",
       "    .dataframe thead th {\n",
       "        text-align: left;\n",
       "    }\n",
       "\n",
       "    .dataframe tbody tr th {\n",
       "        vertical-align: top;\n",
       "    }\n",
       "</style>\n",
       "<table border=\"1\" class=\"dataframe\">\n",
       "  <thead>\n",
       "    <tr style=\"text-align: right;\">\n",
       "      <th></th>\n",
       "      <th>Subject ID</th>\n",
       "      <th>Sex</th>\n",
       "      <th>Research Group</th>\n",
       "      <th>Age</th>\n",
       "      <th>Description</th>\n",
       "    </tr>\n",
       "  </thead>\n",
       "  <tbody>\n",
       "    <tr>\n",
       "      <th>0</th>\n",
       "      <td>002_S_0295</td>\n",
       "      <td>M</td>\n",
       "      <td>CN</td>\n",
       "      <td>84.9</td>\n",
       "      <td>B1-Calibration Body</td>\n",
       "    </tr>\n",
       "    <tr>\n",
       "      <th>1</th>\n",
       "      <td>002_S_0295</td>\n",
       "      <td>M</td>\n",
       "      <td>CN</td>\n",
       "      <td>84.9</td>\n",
       "      <td>B1-Calibration PA</td>\n",
       "    </tr>\n",
       "    <tr>\n",
       "      <th>2</th>\n",
       "      <td>002_S_0295</td>\n",
       "      <td>M</td>\n",
       "      <td>CN</td>\n",
       "      <td>84.9</td>\n",
       "      <td>3-plane localizer</td>\n",
       "    </tr>\n",
       "    <tr>\n",
       "      <th>3</th>\n",
       "      <td>002_S_0295</td>\n",
       "      <td>M</td>\n",
       "      <td>CN</td>\n",
       "      <td>84.9</td>\n",
       "      <td>3-plane localizer</td>\n",
       "    </tr>\n",
       "    <tr>\n",
       "      <th>4</th>\n",
       "      <td>002_S_0295</td>\n",
       "      <td>M</td>\n",
       "      <td>CN</td>\n",
       "      <td>84.9</td>\n",
       "      <td>3-plane localizer</td>\n",
       "    </tr>\n",
       "  </tbody>\n",
       "</table>\n",
       "</div>"
      ],
      "text/plain": [
       "   Subject ID Sex Research Group   Age          Description\n",
       "0  002_S_0295   M             CN  84.9  B1-Calibration Body\n",
       "1  002_S_0295   M             CN  84.9    B1-Calibration PA\n",
       "2  002_S_0295   M             CN  84.9    3-plane localizer\n",
       "3  002_S_0295   M             CN  84.9    3-plane localizer\n",
       "4  002_S_0295   M             CN  84.9    3-plane localizer"
      ]
     },
     "execution_count": 6,
     "metadata": {},
     "output_type": "execute_result"
    }
   ],
   "source": [
    "adni.head()"
   ]
  },
  {
   "cell_type": "markdown",
   "metadata": {},
   "source": [
    "This csv file was taken from ADNI's advanced search, under the Image Data section, with the following parameters:\n",
    "\n",
    "**Projects:** ADNI\n",
    "\n",
    "**Research Group:** AD, CN (check the box to the far right under \"Display in result\" otherwise the csv won't have labels.) \n",
    "\n",
    "**Modality:** MRI, PET, (AND)\n"
   ]
  },
  {
   "cell_type": "markdown",
   "metadata": {},
   "source": [
    "# <span style=\"color:red\">PROBLEM:</span>\n",
    "\n",
    "We need to figure out which of these ~30k samples we want to use. Description refers to the type of MRI or PET scan they did. Some of them are local to one particular region, some are higher res, etc. Not all of the User ID's have the same test Desicriptions. \n",
    "\n",
    "This may mean that we need to find a group of a few hundred subject ID's which all have the same two Descriptions, one being an MRI and one a PET scan.\n",
    "\n",
    "### Ways to help: \n",
    "Let's dig through this dataframe and get some stats on the most common Descriptions.\n",
    "\n",
    "Get on the ADNI website and figure out which Descriptions correspond to MRI's and PET scans, (The PET ones seem to often be labeled.\n",
    "\n",
    "### Goal:\n",
    "\n",
    "Ideally, we want a list of subject ID's and the two descriptions for the data we want. With this it should be straightforward to enter the info into ADNI and get our data. "
   ]
  },
  {
   "cell_type": "code",
   "execution_count": null,
   "metadata": {
    "collapsed": true
   },
   "outputs": [],
   "source": []
  }
 ],
 "metadata": {
  "kernelspec": {
   "display_name": "Python 2",
   "language": "python",
   "name": "python2"
  },
  "language_info": {
   "codemirror_mode": {
    "name": "ipython",
    "version": 2
   },
   "file_extension": ".py",
   "mimetype": "text/x-python",
   "name": "python",
   "nbconvert_exporter": "python",
   "pygments_lexer": "ipython2",
   "version": "2.7.13"
  }
 },
 "nbformat": 4,
 "nbformat_minor": 2
}
